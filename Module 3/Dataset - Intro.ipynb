{
 "cells": [
  {
   "cell_type": "code",
   "execution_count": null,
   "id": "5f175f44",
   "metadata": {},
   "outputs": [],
   "source": [
    "#Dataset\n",
    "\n",
    "Sales.describe()  #summary of all varaibles\n",
    "\n",
    "Sales['custId'].describe() #Summary of a variable\n",
    "\n",
    "Sales.salesChannel.value_counts #Get freq table for a given var\n",
    "\n",
    "table(Sales$custCountry) #Get frequency for cat var\n",
    "\n",
    "sum(Sales.custId.isnull()) #Missing value count in a var\n",
    "\n",
    "Sales.sample(n=10) #take a random sample of size 10\n",
    "\n"
   ]
  }
 ],
 "metadata": {
  "kernelspec": {
   "display_name": "Python 3 (ipykernel)",
   "language": "python",
   "name": "python3"
  },
  "language_info": {
   "codemirror_mode": {
    "name": "ipython",
    "version": 3
   },
   "file_extension": ".py",
   "mimetype": "text/x-python",
   "name": "python",
   "nbconvert_exporter": "python",
   "pygments_lexer": "ipython3",
   "version": "3.10.9"
  }
 },
 "nbformat": 4,
 "nbformat_minor": 5
}
