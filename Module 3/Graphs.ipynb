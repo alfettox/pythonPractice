{
 "cells": [
  {
   "cell_type": "code",
   "execution_count": null,
   "id": "a92db020",
   "metadata": {},
   "outputs": [],
   "source": [
    "#import matplotlib as plt\n",
    "\n",
    "plt.plot(cars.HorsePower,cars.MPG_City)\n",
    "plt.scatter(cars.HorsePower, cars.MPG_City)\n",
    "\n",
    "#scatter plot\n",
    "#box plot\n",
    "#trend chart"
   ]
  }
 ],
 "metadata": {
  "kernelspec": {
   "display_name": "Python 3 (ipykernel)",
   "language": "python",
   "name": "python3"
  },
  "language_info": {
   "codemirror_mode": {
    "name": "ipython",
    "version": 3
   },
   "file_extension": ".py",
   "mimetype": "text/x-python",
   "name": "python",
   "nbconvert_exporter": "python",
   "pygments_lexer": "ipython3",
   "version": "3.10.9"
  }
 },
 "nbformat": 4,
 "nbformat_minor": 5
}
