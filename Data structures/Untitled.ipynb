{
 "cells": [
  {
   "cell_type": "code",
   "execution_count": 3,
   "id": "2161aaf3",
   "metadata": {},
   "outputs": [
    {
     "name": "stdout",
     "output_type": "stream",
     "text": [
      "['Mario', 'Paola', 12]\n",
      "3\n"
     ]
    }
   ],
   "source": [
    "#Lists HYBRID DATA TYPE\n",
    "\n",
    "myList = [\"Mario\", \"Paola\", 12]\n",
    "print(myList)\n",
    "\n",
    "print(len(myList))"
   ]
  },
  {
   "cell_type": "code",
   "execution_count": 4,
   "id": "aa89d535",
   "metadata": {},
   "outputs": [
    {
     "name": "stdout",
     "output_type": "stream",
     "text": [
      "['Mario', 'Paola']\n"
     ]
    }
   ],
   "source": [
    "del(myList[2])\n",
    "print(myList);"
   ]
  },
  {
   "cell_type": "code",
   "execution_count": null,
   "id": "ce5fc3ea",
   "metadata": {},
   "outputs": [],
   "source": []
  }
 ],
 "metadata": {
  "kernelspec": {
   "display_name": "Python 3 (ipykernel)",
   "language": "python",
   "name": "python3"
  },
  "language_info": {
   "codemirror_mode": {
    "name": "ipython",
    "version": 3
   },
   "file_extension": ".py",
   "mimetype": "text/x-python",
   "name": "python",
   "nbconvert_exporter": "python",
   "pygments_lexer": "ipython3",
   "version": "3.10.9"
  }
 },
 "nbformat": 4,
 "nbformat_minor": 5
}
