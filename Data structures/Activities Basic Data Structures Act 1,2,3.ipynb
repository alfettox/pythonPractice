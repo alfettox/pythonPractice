{
 "cells": [
  {
   "cell_type": "code",
   "execution_count": 1,
   "id": "0e6b1ef9",
   "metadata": {},
   "outputs": [
    {
     "name": "stdout",
     "output_type": "stream",
     "text": [
      "enter name: Giovanni\n",
      "enter age: 23\n",
      "enter where do you live: Montreal\n",
      "Giovanni\n",
      "23\n",
      "Montreal\n"
     ]
    }
   ],
   "source": [
    "#Prompt the user to answer a series of 3-5 questions about themselves (such as their name, their age, their birthday, or where they live) and save the answers in a list. Display the results to the user.\n",
    "\n",
    "name = input(\"enter name: \")\n",
    "age = input (\"enter age: \")\n",
    "live = input(\"enter where do you live: \")\n",
    "\n",
    "infoList = [];\n",
    "infoList.append(name);\n",
    "infoList.append(age);\n",
    "infoList.append(live);\n",
    "\n",
    "for i in infoList:\n",
    "    print(i);"
   ]
  },
  {
   "cell_type": "code",
   "execution_count": 2,
   "id": "02f36122",
   "metadata": {},
   "outputs": [
    {
     "name": "stdout",
     "output_type": "stream",
     "text": [
      "Enter your phone number: 342342342\n",
      "fav color: blue\n",
      "Giovanni\n",
      "23\n",
      "Montreal\n",
      "342342342\n",
      "blue\n"
     ]
    }
   ],
   "source": [
    "# Present the user with an existing list of items (such as the list created in the previous activity) and prompt the user for 2-4 more items to add to the list. Update the list with the new items and display the updated list.\n",
    "addPhone = input(\"Enter your phone number: \")\n",
    "addColor = input(\"fav color: \")\n",
    "\n",
    "infoList.append(addPhone);\n",
    "infoList.append(addColor);\n",
    "\n",
    "for i in infoList:\n",
    "    print(i);\n",
    "    "
   ]
  },
  {
   "cell_type": "code",
   "execution_count": 7,
   "id": "c377c2f7",
   "metadata": {},
   "outputs": [
    {
     "name": "stdout",
     "output_type": "stream",
     "text": [
      "what do you want to update? item2\n",
      "new value: ITEM_2\n",
      "item1\n",
      "ITEM_2\n",
      "item3\n",
      "item4\n"
     ]
    }
   ],
   "source": [
    "infoList = [\"item1\", \"item2\", \"item3\", \"item4\"]\n",
    "\n",
    "\n",
    "updateItem = input(\"what do you want to update? \")\n",
    "newVal = input(\"new value: \")\n",
    "\n",
    "if updateItem in infoList:\n",
    "    infoListIndexToUpdate = infoList.index(updateItem);\n",
    "    infoList[infoListIndexToUpdate] = newVal\n",
    "else:\n",
    "    print(\"not found\")\n",
    "\n",
    "    \n",
    "for i in infoList:\n",
    "    print(i);"
   ]
  },
  {
   "cell_type": "code",
   "execution_count": 8,
   "id": "104d6d3d",
   "metadata": {},
   "outputs": [],
   "source": [
    "# create tuples"
   ]
  },
  {
   "cell_type": "code",
   "execution_count": 12,
   "id": "d43ba179",
   "metadata": {},
   "outputs": [
    {
     "name": "stdout",
     "output_type": "stream",
     "text": [
      "('John', 'Doe', 'Software Engineer', '123 Main Street', 'City', 'Country', '456 Park Avenue', 'Town', 'Country')\n"
     ]
    }
   ],
   "source": [
    "name = (\"John\", \"Doe\")\n",
    "profession = (\"Software Engineer\",)\n",
    "current_address = (\"123 Main Street\", \"City\", \"Country\")\n",
    "previous_address = (\"456 Park Avenue\", \"Town\", \"Country\")\n",
    "\n",
    "combined_tuple = name + profession + current_address + previous_address\n",
    "\n",
    "print(combined_tuple)"
   ]
  },
  {
   "cell_type": "code",
   "execution_count": null,
   "id": "aaf7392b",
   "metadata": {},
   "outputs": [],
   "source": []
  }
 ],
 "metadata": {
  "kernelspec": {
   "display_name": "Python 3 (ipykernel)",
   "language": "python",
   "name": "python3"
  },
  "language_info": {
   "codemirror_mode": {
    "name": "ipython",
    "version": 3
   },
   "file_extension": ".py",
   "mimetype": "text/x-python",
   "name": "python",
   "nbconvert_exporter": "python",
   "pygments_lexer": "ipython3",
   "version": "3.10.9"
  }
 },
 "nbformat": 4,
 "nbformat_minor": 5
}
