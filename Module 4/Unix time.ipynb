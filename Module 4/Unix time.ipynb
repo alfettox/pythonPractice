{
 "cells": [
  {
   "cell_type": "code",
   "execution_count": 1,
   "id": "702a50df",
   "metadata": {},
   "outputs": [
    {
     "name": "stdout",
     "output_type": "stream",
     "text": [
      "2023-06-19 18:31:13.755527\n",
      "1687213873\n"
     ]
    }
   ],
   "source": [
    "#\n",
    "\n",
    "import math\n",
    "import datetime\n",
    " \n",
    "d_now = datetime.datetime.now()\n",
    "\n",
    "#Unix time\n",
    "tstamp = math.floor(datetime.datetime.timestamp(d_now))\n",
    " \n",
    "print(d_now)\n",
    "print(tstamp)"
   ]
  }
 ],
 "metadata": {
  "kernelspec": {
   "display_name": "Python 3 (ipykernel)",
   "language": "python",
   "name": "python3"
  },
  "language_info": {
   "codemirror_mode": {
    "name": "ipython",
    "version": 3
   },
   "file_extension": ".py",
   "mimetype": "text/x-python",
   "name": "python",
   "nbconvert_exporter": "python",
   "pygments_lexer": "ipython3",
   "version": "3.10.9"
  }
 },
 "nbformat": 4,
 "nbformat_minor": 5
}
