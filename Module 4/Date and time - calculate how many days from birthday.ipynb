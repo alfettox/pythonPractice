{
 "cells": [
  {
   "cell_type": "code",
   "execution_count": 8,
   "id": "6c6a3710",
   "metadata": {},
   "outputs": [
    {
     "name": "stdout",
     "output_type": "stream",
     "text": [
      "Enter the year: 2023\n",
      "Enter the month: 06\n",
      "Enter the day: 19\n",
      "Error: date must be in the past\n"
     ]
    }
   ],
   "source": [
    "from datetime import date, timedelta\n",
    "\n",
    "year = int(input(\"Enter the year: \"))\n",
    "month = int(input(\"Enter the month: \"))\n",
    "day = int(input(\"Enter the day: \"))\n",
    "\n",
    "\n",
    "today = date.today()\n",
    "\n",
    "user_date = date(year, month, day)\n",
    "\n",
    "# Calculate the time difference in days\n",
    "days_difference = abs((user_date - today).days)\n",
    "\n",
    "if user_date < today:\n",
    "    future_date = today + timedelta(days=days_difference)\n",
    "    print(\"That date was\", days_difference, \"days ago.\")\n",
    "else:\n",
    "    print(\"Error: date must be in the past\")"
   ]
  }
 ],
 "metadata": {
  "kernelspec": {
   "display_name": "Python 3 (ipykernel)",
   "language": "python",
   "name": "python3"
  },
  "language_info": {
   "codemirror_mode": {
    "name": "ipython",
    "version": 3
   },
   "file_extension": ".py",
   "mimetype": "text/x-python",
   "name": "python",
   "nbconvert_exporter": "python",
   "pygments_lexer": "ipython3",
   "version": "3.10.9"
  }
 },
 "nbformat": 4,
 "nbformat_minor": 5
}
