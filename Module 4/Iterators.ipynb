{
 "cells": [
  {
   "cell_type": "code",
   "execution_count": 1,
   "id": "261a21e3",
   "metadata": {},
   "outputs": [],
   "source": [
    "#Iterator"
   ]
  },
  {
   "cell_type": "code",
   "execution_count": 26,
   "id": "76062a76",
   "metadata": {},
   "outputs": [
    {
     "name": "stdout",
     "output_type": "stream",
     "text": [
      "banana\n",
      "blueberry\n",
      "strawberries\n",
      "mango\n",
      "Iterator2:  banana\n",
      "Iterator2:  blueberry\n",
      "Iterator2:  strawberries\n",
      "Iterator 3: first_name\n",
      "Iterator 3: last_name\n",
      "H\n",
      "e\n",
      "l\n",
      "l\n",
      "o\n",
      " \n",
      "m\n",
      "y\n",
      " \n",
      "n\n",
      "a\n",
      "m\n",
      "e\n",
      " \n",
      "i\n"
     ]
    }
   ],
   "source": [
    "#List\n",
    "my_list = ['banana', 'blueberry', 'strawberries', 'mango']\n",
    "\n",
    "my_Iterator= iter(my_list)\n",
    "\n",
    "#print(next(my_Iterator));\n",
    "#print(next(my_Iterator));\n",
    "#print(next(my_Iterator));\n",
    "#print(next(my_Iterator));\n",
    "\n",
    "for fruit in my_list:\n",
    "    print(next(my_Iterator));\n",
    "\n",
    "#Object\n",
    "my_Iterator2 = iter(my_list)\n",
    "print(\"Iterator2: \", next(my_Iterator2))\n",
    "print(\"Iterator2: \", next(my_Iterator2))\n",
    "print(\"Iterator2: \", next(my_Iterator2))\n",
    "\n",
    "\n",
    "#Dictionary\n",
    "names_dict = {\"first_name\":\"Giovanni\", \"last_name\":\"De Franceschi\"}\n",
    "\n",
    "my_Iterator3 = iter(names_dict)\n",
    "\n",
    "while True:\n",
    "    try:\n",
    "        item = next(my_Iterator3)\n",
    "        print(\"Iterator 3:\", item)\n",
    "    except StopIteration:\n",
    "        break\n",
    "        \n",
    "        \n",
    "#Iterating Strings\n",
    "message = \"Hello my name is Giovanni\"\n",
    "msg_iter  = iter(message)\n",
    "\n",
    "print(next(msg_iter))\n",
    "print(next(msg_iter))\n",
    "print(next(msg_iter))\n",
    "print(next(msg_iter))\n",
    "print(next(msg_iter))\n",
    "print(next(msg_iter))\n",
    "print(next(msg_iter))\n",
    "print(next(msg_iter))\n",
    "print(next(msg_iter))\n",
    "print(next(msg_iter))\n",
    "print(next(msg_iter))\n",
    "print(next(msg_iter))\n",
    "print(next(msg_iter))\n",
    "print(next(msg_iter))\n",
    "print(next(msg_iter))"
   ]
  }
 ],
 "metadata": {
  "kernelspec": {
   "display_name": "Python 3 (ipykernel)",
   "language": "python",
   "name": "python3"
  },
  "language_info": {
   "codemirror_mode": {
    "name": "ipython",
    "version": 3
   },
   "file_extension": ".py",
   "mimetype": "text/x-python",
   "name": "python",
   "nbconvert_exporter": "python",
   "pygments_lexer": "ipython3",
   "version": "3.10.9"
  }
 },
 "nbformat": 4,
 "nbformat_minor": 5
}
