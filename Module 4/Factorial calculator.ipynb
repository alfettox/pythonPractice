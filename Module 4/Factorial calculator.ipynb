{
 "cells": [
  {
   "cell_type": "code",
   "execution_count": 22,
   "id": "f308cc88",
   "metadata": {},
   "outputs": [
    {
     "name": "stdout",
     "output_type": "stream",
     "text": [
      "The factorial of   1 is:          1\n",
      "The factorial of   2 is:          2\n",
      "The factorial of   3 is:          6\n",
      "The factorial of   4 is:         24\n",
      "The factorial of   5 is:        120\n",
      "The factorial of   6 is:        720\n",
      "The factorial of   7 is:       5040\n",
      "The factorial of   8 is:      40320\n",
      "The factorial of   9 is:     362880\n",
      "The factorial of  10 is:    3628800\n",
      "The factorial of  11 is:   39916800\n",
      "The factorial of  12 is:  479001600\n",
      "The factorial of  13 is: 6227020800\n"
     ]
    }
   ],
   "source": [
    "import math\n",
    "\n",
    "listOf = [1, 2, 3, 4, 5, 6, 7, 8, 9, 10, 11, 12, 13]\n",
    "\n",
    "iterFac = iter(listOf)\n",
    "\n",
    "while True:\n",
    "    try:\n",
    "        n = next(iterFac)\n",
    "        factorial = math.factorial(n)\n",
    "        factorial_str = ''.join(f\"{digit}\" for digit in str(factorial))\n",
    "        print(f\"The factorial of {n:3} is: {factorial_str.strip():>10}\")\n",
    "    except StopIteration:\n",
    "        break\n"
   ]
  }
 ],
 "metadata": {
  "kernelspec": {
   "display_name": "Python 3 (ipykernel)",
   "language": "python",
   "name": "python3"
  },
  "language_info": {
   "codemirror_mode": {
    "name": "ipython",
    "version": 3
   },
   "file_extension": ".py",
   "mimetype": "text/x-python",
   "name": "python",
   "nbconvert_exporter": "python",
   "pygments_lexer": "ipython3",
   "version": "3.10.9"
  }
 },
 "nbformat": 4,
 "nbformat_minor": 5
}
