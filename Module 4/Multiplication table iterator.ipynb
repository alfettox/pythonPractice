{
 "cells": [
  {
   "cell_type": "code",
   "execution_count": 10,
   "id": "dce47dc3",
   "metadata": {},
   "outputs": [
    {
     "name": "stdout",
     "output_type": "stream",
     "text": [
      "5\n",
      "10\n",
      "15\n",
      "20\n",
      "25\n",
      "30\n",
      "35\n",
      "40\n",
      "45\n",
      "50\n"
     ]
    }
   ],
   "source": [
    "class MultiplicationTable:\n",
    "    def __init__(self):\n",
    "        self.current = 5           # Initialize the starting value of the multiplication table\n",
    "\n",
    "    def __iter__(self):\n",
    "        return self                # Return the iterator object itself\n",
    "\n",
    "    def __next__(self):\n",
    "        result = self.current      # Store the current value to be returned\n",
    "        self.current += 5          # Increment the current value for the next iteration\n",
    "        return result              # Return the current value\n",
    "\n",
    "numbers = MultiplicationTable()    # Create an instance of the MultiplicationTable class\n",
    "numbers_iterator = iter(numbers)   # Obtain an iterator from the instance\n",
    "\n",
    "counter = 10                       # Set the counter to control the number of iterations\n",
    "\n",
    "while True:\n",
    "    print(next(numbers_iterator))  # Print the next value from the iterator\n",
    "    counter -= 1                   # Decrement the counter\n",
    "    if counter == 0:\n",
    "        break                      # Exit the loop when the counter reaches zero\n"
   ]
  }
 ],
 "metadata": {
  "kernelspec": {
   "display_name": "Python 3 (ipykernel)",
   "language": "python",
   "name": "python3"
  },
  "language_info": {
   "codemirror_mode": {
    "name": "ipython",
    "version": 3
   },
   "file_extension": ".py",
   "mimetype": "text/x-python",
   "name": "python",
   "nbconvert_exporter": "python",
   "pygments_lexer": "ipython3",
   "version": "3.10.9"
  }
 },
 "nbformat": 4,
 "nbformat_minor": 5
}
