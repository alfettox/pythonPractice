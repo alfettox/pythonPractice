{
 "cells": [
  {
   "cell_type": "code",
   "execution_count": 1,
   "id": "a134a7ae",
   "metadata": {},
   "outputs": [
    {
     "name": "stdout",
     "output_type": "stream",
     "text": [
      "Enter the year: 1985\n",
      "Enter the month: 12\n",
      "Enter the day: 23\n",
      "Enter the hour (in 24-hour format): 14\n",
      "Enter the minute: 11\n",
      "You are in the past.\n"
     ]
    }
   ],
   "source": [
    "import datetime\n",
    "\n",
    "# Get user input\n",
    "year = int(input(\"Enter the year: \"))\n",
    "month = int(input(\"Enter the month: \"))\n",
    "day = int(input(\"Enter the day: \"))\n",
    "hour = int(input(\"Enter the hour (in 24-hour format): \"))\n",
    "minute = int(input(\"Enter the minute: \"))\n",
    "\n",
    "# Create user-provided datetime object\n",
    "user_datetime = datetime.datetime(year, month, day, hour, minute)\n",
    "\n",
    "# Get current UTC datetime\n",
    "current_datetime = datetime.datetime.now(datetime.timezone.utc)\n",
    "\n",
    "# Remove time component from current datetime\n",
    "current_date = current_datetime.date()\n",
    "\n",
    "# Compare user-provided datetime with current date\n",
    "if user_datetime.date() < current_date:\n",
    "    print(\"You are in the past.\")\n",
    "elif user_datetime.date() > current_date:\n",
    "    print(\"You are in the future.\")\n",
    "else:\n",
    "    print(\"That's today!\")\n"
   ]
  }
 ],
 "metadata": {
  "kernelspec": {
   "display_name": "Python 3 (ipykernel)",
   "language": "python",
   "name": "python3"
  },
  "language_info": {
   "codemirror_mode": {
    "name": "ipython",
    "version": 3
   },
   "file_extension": ".py",
   "mimetype": "text/x-python",
   "name": "python",
   "nbconvert_exporter": "python",
   "pygments_lexer": "ipython3",
   "version": "3.10.9"
  }
 },
 "nbformat": 4,
 "nbformat_minor": 5
}
