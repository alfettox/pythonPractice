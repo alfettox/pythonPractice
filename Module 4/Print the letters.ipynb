{
 "cells": [
  {
   "cell_type": "code",
   "execution_count": 4,
   "id": "a18fad5d",
   "metadata": {},
   "outputs": [
    {
     "name": "stdout",
     "output_type": "stream",
     "text": [
      "Giovanni\n"
     ]
    }
   ],
   "source": [
    "#Print the letters\n",
    "\n",
    "message = \"23213G23i123ov2313a2345n532n4i\"\n",
    "secret_message = \"\"\n",
    "message_iterator = iter(message)\n",
    "\n",
    "while True:\n",
    "    try:\n",
    "        x = next(message_iterator)\n",
    "        if NOT x.isdigit():\n",
    "            secret_message += x\n",
    "    except StopIteration:\n",
    "        break\n",
    "\n",
    "print(secret_message)\n"
   ]
  }
 ],
 "metadata": {
  "kernelspec": {
   "display_name": "Python 3 (ipykernel)",
   "language": "python",
   "name": "python3"
  },
  "language_info": {
   "codemirror_mode": {
    "name": "ipython",
    "version": 3
   },
   "file_extension": ".py",
   "mimetype": "text/x-python",
   "name": "python",
   "nbconvert_exporter": "python",
   "pygments_lexer": "ipython3",
   "version": "3.10.9"
  }
 },
 "nbformat": 4,
 "nbformat_minor": 5
}
