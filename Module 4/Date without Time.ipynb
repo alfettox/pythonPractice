{
 "cells": [
  {
   "cell_type": "code",
   "execution_count": 4,
   "id": "33c88624",
   "metadata": {},
   "outputs": [],
   "source": [
    "#Date without Time"
   ]
  },
  {
   "cell_type": "code",
   "execution_count": 5,
   "id": "67b9a4d2",
   "metadata": {
    "scrolled": true
   },
   "outputs": [
    {
     "name": "stdout",
     "output_type": "stream",
     "text": [
      "2023-06-19\n",
      "2023\n",
      "6\n",
      "19\n"
     ]
    }
   ],
   "source": [
    "import datetime\n",
    " \n",
    "time_today = datetime.date.today() # calculates the current date\n",
    "print(time_today)\n",
    "print(time_today.year)\n",
    "print(time_today.month)\n",
    "print(time_today.day)\n"
   ]
  }
 ],
 "metadata": {
  "kernelspec": {
   "display_name": "Python 3 (ipykernel)",
   "language": "python",
   "name": "python3"
  },
  "language_info": {
   "codemirror_mode": {
    "name": "ipython",
    "version": 3
   },
   "file_extension": ".py",
   "mimetype": "text/x-python",
   "name": "python",
   "nbconvert_exporter": "python",
   "pygments_lexer": "ipython3",
   "version": "3.10.9"
  }
 },
 "nbformat": 4,
 "nbformat_minor": 5
}
