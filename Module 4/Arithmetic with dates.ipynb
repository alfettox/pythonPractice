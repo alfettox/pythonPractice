{
 "cells": [
  {
   "cell_type": "code",
   "execution_count": 10,
   "id": "b124ba60",
   "metadata": {},
   "outputs": [
    {
     "name": "stdout",
     "output_type": "stream",
     "text": [
      "Tomorrow:  2023-06-20 19:12:34.510875\n",
      "In 4 days will be:  2023-06-23 19:12:34.511374\n",
      "In one hour will be: 2023-06-19 20:12:34.511875\n",
      "Current time in  10 will be:  2023-06-19 19:12:44.511875\n",
      "Current time in  9 will be:  2023-06-19 19:12:44.516017\n",
      "Current time in  8 will be:  2023-06-19 19:12:44.519733\n",
      "Current time in  7 will be:  2023-06-19 19:12:44.520786\n",
      "Current time in  6 will be:  2023-06-19 19:12:44.521955\n",
      "Current time in  5 will be:  2023-06-19 19:12:44.527928\n",
      "Current time in  4 will be:  2023-06-19 19:12:44.534226\n",
      "Current time in  3 will be:  2023-06-19 19:12:44.537304\n",
      "Current time in  2 will be:  2023-06-19 19:12:44.540399\n",
      "Current time in  1 will be:  2023-06-19 19:12:44.544640\n"
     ]
    }
   ],
   "source": [
    "#Arithmetic with dates\n",
    "\n",
    "import datetime\n",
    "\n",
    "date1 = datetime.datetime.now() + datetime.timedelta(days =1)\n",
    "print(\"Tomorrow: \", date1)\n",
    "\n",
    "date2 = datetime.datetime.now() + datetime.timedelta(days = 4)\n",
    "print(\"In 4 days will be: \", date2)\n",
    "\n",
    "\n",
    "in_one_hour = datetime.datetime.now() + datetime.timedelta(minutes = 60)\n",
    "\n",
    "print(\"In one hour will be:\",in_one_hour)\n",
    "\n",
    "import time\n",
    "\n",
    "countdown = 10\n",
    "\n",
    "while countdown > 0:\n",
    "    in_one_hour = datetime.datetime.now() + datetime.timedelta(seconds=countdown)\n",
    "    print(\"Current time in \", countdown, \"will be: \", in_one_hour)\n",
    "    countdown -= 1\n",
    "    time.sleep(1)\n"
   ]
  },
  {
   "cell_type": "code",
   "execution_count": null,
   "id": "1a165752",
   "metadata": {},
   "outputs": [],
   "source": []
  }
 ],
 "metadata": {
  "kernelspec": {
   "display_name": "Python 3 (ipykernel)",
   "language": "python",
   "name": "python3"
  },
  "language_info": {
   "codemirror_mode": {
    "name": "ipython",
    "version": 3
   },
   "file_extension": ".py",
   "mimetype": "text/x-python",
   "name": "python",
   "nbconvert_exporter": "python",
   "pygments_lexer": "ipython3",
   "version": "3.10.9"
  }
 },
 "nbformat": 4,
 "nbformat_minor": 5
}
