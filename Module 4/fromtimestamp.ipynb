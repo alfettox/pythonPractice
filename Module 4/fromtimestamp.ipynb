{
 "cells": [
  {
   "cell_type": "code",
   "execution_count": 1,
   "id": "c96086f8",
   "metadata": {},
   "outputs": [
    {
     "name": "stdout",
     "output_type": "stream",
     "text": [
      "2012-12-16 15:31:40\n",
      "2012\n",
      "12\n",
      "16\n",
      "15\n",
      "31\n",
      "40\n",
      "0\n",
      "None\n"
     ]
    }
   ],
   "source": [
    "import datetime\n",
    "\n",
    "time_stamp = 1355689900\n",
    "\n",
    "date = datetime.datetime.fromtimestamp(time_stamp);\n",
    "\n",
    "\n",
    "print(date);\n",
    "print(date.year)\n",
    "print(date.month)\n",
    "print(date.day)\n",
    "print(date.hour)\n",
    "print(date.minute)\n",
    "print(date.second)\n",
    "print(date.microsecond)\n",
    "print(date.tzinfo)"
   ]
  }
 ],
 "metadata": {
  "kernelspec": {
   "display_name": "Python 3 (ipykernel)",
   "language": "python",
   "name": "python3"
  },
  "language_info": {
   "codemirror_mode": {
    "name": "ipython",
    "version": 3
   },
   "file_extension": ".py",
   "mimetype": "text/x-python",
   "name": "python",
   "nbconvert_exporter": "python",
   "pygments_lexer": "ipython3",
   "version": "3.10.9"
  }
 },
 "nbformat": 4,
 "nbformat_minor": 5
}
