{
 "cells": [
  {
   "cell_type": "code",
   "execution_count": 2,
   "id": "8357576d",
   "metadata": {},
   "outputs": [
    {
     "name": "stdout",
     "output_type": "stream",
     "text": [
      "1\n",
      "3\n",
      "5\n",
      "7\n",
      "9\n"
     ]
    }
   ],
   "source": [
    "#Odd numbers\n",
    "\n",
    "class OddSequencer:\n",
    "    def __init__(self):\n",
    "        self.current=1;\n",
    "        \n",
    "    def __iter__(self):\n",
    "        return self;\n",
    "    \n",
    "    def __next__(self):\n",
    "        if self.current <= 10:\n",
    "            odd_number = self.current;\n",
    "            self.current +=2\n",
    "            return odd_number\n",
    "        raise StopIteration\n",
    "        \n",
    "numbers = OddSequencer();\n",
    "\n",
    "for n in numbers:\n",
    "    print(n)\n",
    "        "
   ]
  }
 ],
 "metadata": {
  "kernelspec": {
   "display_name": "Python 3 (ipykernel)",
   "language": "python",
   "name": "python3"
  },
  "language_info": {
   "codemirror_mode": {
    "name": "ipython",
    "version": 3
   },
   "file_extension": ".py",
   "mimetype": "text/x-python",
   "name": "python",
   "nbconvert_exporter": "python",
   "pygments_lexer": "ipython3",
   "version": "3.10.9"
  }
 },
 "nbformat": 4,
 "nbformat_minor": 5
}
