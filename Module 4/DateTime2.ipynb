{
 "cells": [
  {
   "cell_type": "code",
   "execution_count": 8,
   "id": "8a549761",
   "metadata": {},
   "outputs": [
    {
     "name": "stdout",
     "output_type": "stream",
     "text": [
      "2023\n",
      "6\n",
      "19\n",
      "18\n",
      "24\n",
      "36\n",
      "None\n",
      "2013-12-04\n",
      "False\n",
      "True\n",
      "False\n",
      "2023-06-19 22:24:36.838221\n",
      "2023\n",
      "6\n",
      "19\n",
      "hour 22\n",
      "minute 24\n",
      "36\n",
      "838221\n",
      "None\n"
     ]
    }
   ],
   "source": [
    "import datetime\n",
    "\n",
    "\n",
    "datetime.datetime.now().year\n",
    "\n",
    "time_now = datetime.datetime.now();\n",
    "\n",
    "print(time_now.year)\n",
    "print(time_now.month)\n",
    "print(time_now.day)\n",
    "print(time_now.hour)\n",
    "print(time_now.minute)\n",
    "print(time_now.second)\n",
    "print(time_now.tzinfo)\n",
    "\n",
    "#Custom datetime\n",
    "\n",
    "customTime = datetime.date(year = 2013, day = 4, month = 12)\n",
    "\n",
    "print (customTime)\n",
    "\n",
    "d1 = datetime.datetime(year=2013,month=12,day=4)\n",
    "d2 = datetime.datetime(year=2014,month=3,day=12)\n",
    "\n",
    "print(d1 > d2) # check if d1 is more recent than d2\n",
    "print(d1 < d2)\n",
    "print(d1 == d2)\n",
    "\n",
    "time_utc_now = datetime.datetime.utcnow()\n",
    "print(time_utc_now)\n",
    "print(time_utc_now.year)\n",
    "print(time_utc_now.month)\n",
    "print(time_utc_now.day)\n",
    "print(\"hour\", time_utc_now.hour)\n",
    "print(\"minute\", time_utc_now.minute)\n",
    "print(\"secondtime_utc_now.second)\n",
    "print(time_utc_now.microsecond)\n",
    "print(time_utc_now.tzinfo)"
   ]
  }
 ],
 "metadata": {
  "kernelspec": {
   "display_name": "Python 3 (ipykernel)",
   "language": "python",
   "name": "python3"
  },
  "language_info": {
   "codemirror_mode": {
    "name": "ipython",
    "version": 3
   },
   "file_extension": ".py",
   "mimetype": "text/x-python",
   "name": "python",
   "nbconvert_exporter": "python",
   "pygments_lexer": "ipython3",
   "version": "3.10.9"
  }
 },
 "nbformat": 4,
 "nbformat_minor": 5
}
