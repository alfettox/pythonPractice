{
 "cells": [
  {
   "cell_type": "code",
   "execution_count": 2,
   "id": "b3e7bce1",
   "metadata": {},
   "outputs": [
    {
     "name": "stdout",
     "output_type": "stream",
     "text": [
      "2023-06-20 00:38:03.928848+02:00\n",
      "2023-06-19 18:38:03.930315-04:00\n"
     ]
    }
   ],
   "source": [
    "#Date timezone conversion\n",
    "\n",
    "import datetime\n",
    "\n",
    "import pytz\n",
    "\n",
    "italian_time = datetime.datetime.now(pytz.timezone('Europe/Rome'))\n",
    "\n",
    "quebec_time = datetime.datetime.now(pytz.timezone('America/Montreal'))\n",
    "\n",
    "print (italian_time)\n",
    "\n",
    "print(quebec_time)"
   ]
  }
 ],
 "metadata": {
  "kernelspec": {
   "display_name": "Python 3 (ipykernel)",
   "language": "python",
   "name": "python3"
  },
  "language_info": {
   "codemirror_mode": {
    "name": "ipython",
    "version": 3
   },
   "file_extension": ".py",
   "mimetype": "text/x-python",
   "name": "python",
   "nbconvert_exporter": "python",
   "pygments_lexer": "ipython3",
   "version": "3.10.9"
  }
 },
 "nbformat": 4,
 "nbformat_minor": 5
}
