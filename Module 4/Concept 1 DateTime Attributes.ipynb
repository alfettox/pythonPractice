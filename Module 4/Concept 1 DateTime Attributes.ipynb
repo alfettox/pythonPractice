{
 "cells": [
  {
   "cell_type": "code",
   "execution_count": 7,
   "id": "2145a367",
   "metadata": {},
   "outputs": [
    {
     "name": "stdout",
     "output_type": "stream",
     "text": [
      "2023-06-19 18:14:46.580042\n",
      "2023-06-19 18:14:46.580542\n",
      "1985-11-07\n",
      "Year:  2019\n",
      "Month:  07\n",
      "Day:  23\n"
     ]
    }
   ],
   "source": [
    "#Date and time\n",
    "\n",
    "import datetime;\n",
    "\n",
    "now = datetime.datetime.now();\n",
    "\n",
    "print(now)\n",
    "\n",
    "today = datetime.datetime.today();\n",
    "\n",
    "print(today);\n",
    "\n",
    "\n",
    "myBirthday = datetime.date(1985,11,7)\n",
    "print(myBirthday)\n",
    "\n",
    "d = \"2019-07-23 11:26:26.047342\"\n",
    "date_str, time_str = d.split(\" \")\n",
    "\n",
    "year, month, day = date_str.split(\"-\")\n",
    "\n",
    "print(\"Year: \",year)\n",
    "print(\"Month: \",month)\n",
    "print(\"Day: \",day)"
   ]
  }
 ],
 "metadata": {
  "kernelspec": {
   "display_name": "Python 3 (ipykernel)",
   "language": "python",
   "name": "python3"
  },
  "language_info": {
   "codemirror_mode": {
    "name": "ipython",
    "version": 3
   },
   "file_extension": ".py",
   "mimetype": "text/x-python",
   "name": "python",
   "nbconvert_exporter": "python",
   "pygments_lexer": "ipython3",
   "version": "3.10.9"
  }
 },
 "nbformat": 4,
 "nbformat_minor": 5
}
