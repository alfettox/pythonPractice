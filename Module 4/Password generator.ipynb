{
 "cells": [
  {
   "cell_type": "code",
   "execution_count": 9,
   "id": "93ef90cd",
   "metadata": {},
   "outputs": [
    {
     "name": "stdout",
     "output_type": "stream",
     "text": [
      "1477748504\n",
      "0993372113\n",
      "6929598161\n",
      "0375189246\n",
      "9159677525\n",
      "5383478862\n",
      "8977545168\n",
      "1771052366\n",
      "7530115723\n",
      "9476645717\n"
     ]
    }
   ],
   "source": [
    "from random import random, seed\n",
    "\n",
    "class PassGenerator:\n",
    "    def __iter__(self):\n",
    "        return self\n",
    "    \n",
    "    def __next__(self):\n",
    "        password = \"\"\n",
    "        for _ in range(10):\n",
    "            random_number = int(random() * 10)\n",
    "            password += str(random_number)\n",
    "        return password\n",
    "\n",
    "passwords = PassGenerator()\n",
    "\n",
    "counter = 0;\n",
    "\n",
    "while True:\n",
    "    try:\n",
    "        n = next(passwords)\n",
    "        print(n)\n",
    "        counter = counter +1;\n",
    "        \n",
    "        if counter ==10:\n",
    "            break;\n",
    "        \n",
    "    except StopIteration:\n",
    "        break\n"
   ]
  }
 ],
 "metadata": {
  "kernelspec": {
   "display_name": "Python 3 (ipykernel)",
   "language": "python",
   "name": "python3"
  },
  "language_info": {
   "codemirror_mode": {
    "name": "ipython",
    "version": 3
   },
   "file_extension": ".py",
   "mimetype": "text/x-python",
   "name": "python",
   "nbconvert_exporter": "python",
   "pygments_lexer": "ipython3",
   "version": "3.10.9"
  }
 },
 "nbformat": 4,
 "nbformat_minor": 5
}
