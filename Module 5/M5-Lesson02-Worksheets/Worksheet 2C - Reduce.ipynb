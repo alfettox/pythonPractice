{
 "cells": [
  {
   "cell_type": "markdown",
   "metadata": {},
   "source": [
    "# Reduce\n",
    "\t\n",
    "This worksheet accompanies *Lesson 2C: Reduce* in the online course. Refer to that page as necessary to complete these practice activities."
   ]
  },
  {
   "cell_type": "markdown",
   "metadata": {},
   "source": [
    "## Practice 1\n",
    "Create a script that prompts the user for a series of numbers and calculates the sum of those numbers. Include the following features:\n",
    "\n",
    "* Prompt the user for values until the user enters \"Stop\" (in any letter case).\n",
    "* Each value entered by the user should be added to a list.\n",
    "* Use the `reduce` function with a lambda function to calculate the total value.\n",
    "* Display the results in a user-friendly format.\n",
    "\n",
    "**Tip**: It is always helpful to let the user know how to exit a loop!"
   ]
  },
  {
   "cell_type": "code",
   "execution_count": 3,
   "metadata": {
    "collapsed": true
   },
   "outputs": [],
   "source": [
    "# your code here"
   ]
  },
  {
   "cell_type": "markdown",
   "metadata": {},
   "source": [
    "## Practice 2\n",
    "Update the script from the previous practice activity so that it adds the value 100 to the sum of the values input by the user."
   ]
  },
  {
   "cell_type": "code",
   "execution_count": 3,
   "metadata": {
    "collapsed": true
   },
   "outputs": [],
   "source": [
    "# your code here"
   ]
  },
  {
   "cell_type": "markdown",
   "metadata": {},
   "source": [
    "## Practice 3\n",
    "Create a script that outputs the lowest value in a series of values input by the user.\n",
    "\n",
    "* The script should accept values from the user until the user enters \"Stop\" (in any letter case).\n",
    "* When the user enters \"Stop,\" the script should display all values entered by the user and the lowest value in a user-friendly format."
   ]
  },
  {
   "cell_type": "code",
   "execution_count": 7,
   "metadata": {
    "collapsed": true
   },
   "outputs": [],
   "source": [
    "# your code here"
   ]
  },
  {
   "cell_type": "markdown",
   "metadata": {},
   "source": [
    "## Challenge Activity\n",
    "Create a script that calculates the average closing cost for all records in the *stocks.csv* file.\n",
    "\t\n",
    "You may use any Python functions that are appropriate for the task, but you must include the `reduce` function at least once.\n",
    "\t\n",
    "Display the results in a user-friendly format."
   ]
  },
  {
   "cell_type": "code",
   "execution_count": 8,
   "metadata": {
    "collapsed": true
   },
   "outputs": [],
   "source": [
    "# your code here"
   ]
  }
 ],
 "metadata": {
  "kernelspec": {
   "display_name": "Python 3",
   "language": "python",
   "name": "python3"
  },
  "language_info": {
   "codemirror_mode": {
    "name": "ipython",
    "version": 3
   },
   "file_extension": ".py",
   "mimetype": "text/x-python",
   "name": "python",
   "nbconvert_exporter": "python",
   "pygments_lexer": "ipython3",
   "version": "3.7.3"
  }
 },
 "nbformat": 4,
 "nbformat_minor": 2
}
