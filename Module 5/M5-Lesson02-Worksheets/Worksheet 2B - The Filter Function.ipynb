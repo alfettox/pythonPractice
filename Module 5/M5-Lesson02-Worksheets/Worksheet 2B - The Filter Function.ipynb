{
 "cells": [
  {
   "cell_type": "markdown",
   "metadata": {},
   "source": [
    "# Filter \n",
    "This worksheet accompanies *Lesson 2B: The Filter Function* in the online course. Refer to that page as necessary to complete these practice exercises."
   ]
  },
  {
   "cell_type": "markdown",
   "metadata": {},
   "source": [
    "## Practice 1\n",
    "Create a script that takes as input a list of names and returns all names that include the letter \"e\" at any position in the name.\n",
    "\n",
    "Once the script works with the letter \"e\", refactor the script to prompt the user for a letter to use in the filter. If there are no names with the specified letter in the dataset, return a message to that effect to the user."
   ]
  },
  {
   "cell_type": "code",
   "execution_count": null,
   "metadata": {
    "collapsed": true
   },
   "outputs": [],
   "source": [
    "def contains_e(dataset):\n",
    "    pass\n",
    "\n",
    "names=['Haythem','Mike','James','Helen','Mary']\n",
    "print(names)\n",
    "\n",
    "names_filtered = filter(contains_e,names) \n",
    "print(type(names_filtered))\n",
    "\n",
    "names_filtered_list = list(names_filtered)\n",
    "print(type(names_filtered_list))\n",
    "\n",
    "print(names_filtered_list)"
   ]
  },
  {
   "cell_type": "markdown",
   "metadata": {},
   "source": [
    "## Practice 2\n",
    "Change the code below to identify all the rows in the full *stocks.csv* file where the high price is lower than the close price and display the results. "
   ]
  },
  {
   "cell_type": "code",
   "execution_count": null,
   "metadata": {},
   "outputs": [],
   "source": [
    "def fromCSV(path,delimiter,quotechar):\n",
    "    import csv # import the csv module\n",
    "    data=list() # any data we will read will be returned in a list \n",
    "    with open(path, newline='') as csvfile: # open the file\n",
    "        filecontent = csv.DictReader(csvfile, delimiter=delimiter, quotechar=quotechar) \n",
    "        # access the content of the file\n",
    "        for row in filecontent:# iterate through the rows \n",
    "            data.append(row) # save the rows in the data list. Each row is a dictionary \n",
    "    return data\n",
    "\n",
    "data=fromCSV(path='data/stocks.csv',delimiter=',',quotechar='|') \n",
    "data_filtered = filter(lambda x: x['Open'] < x['Close'], data) \n",
    "print(type(data_filtered))\n",
    "\n",
    "data_filtered_list = list(data_filtered) #convert the filter object into a list\n",
    "for row in data_filtered_list: #display each element in the filtered list \n",
    "    print(row)"
   ]
  }
 ],
 "metadata": {
  "kernelspec": {
   "display_name": "Python 3",
   "language": "python",
   "name": "python3"
  },
  "language_info": {
   "codemirror_mode": {
    "name": "ipython",
    "version": 3
   },
   "file_extension": ".py",
   "mimetype": "text/x-python",
   "name": "python",
   "nbconvert_exporter": "python",
   "pygments_lexer": "ipython3",
   "version": "3.7.3"
  }
 },
 "nbformat": 4,
 "nbformat_minor": 2
}
