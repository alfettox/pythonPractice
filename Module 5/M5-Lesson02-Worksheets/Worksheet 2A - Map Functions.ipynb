{
 "cells": [
  {
   "cell_type": "markdown",
   "metadata": {},
   "source": [
    "# Worksheet 2A: Map Function\n",
    "This worksheet accompanies *Lesson 2A: Map Function* in the online course. Refer to that page as necessary to complete these practice exercises."
   ]
  },
  {
   "cell_type": "markdown",
   "metadata": {},
   "source": [
    "## Practice 1\n",
    "Complete the `remove_first_char` function so we can apply it to the input list `names` to remove the first character of every element in the list."
   ]
  },
  {
   "cell_type": "code",
   "execution_count": null,
   "metadata": {},
   "outputs": [],
   "source": [
    "def remove_first_char(s):\n",
    "    pass\n",
    "\n",
    "names=['haythem','mike','james']\n",
    "print(names)\n",
    "\n",
    "names_new = map(remove_first_char, names) \n",
    "names_new_list = list(names_new) \n",
    "print(names_new_list)"
   ]
  },
  {
   "cell_type": "markdown",
   "metadata": {},
   "source": [
    "## Practice 2\n",
    "Update the `extract_year` function in the code below so that it takes as input an entire row from `data`, extracts the year from the date, and returns a new row that includes the extracted year."
   ]
  },
  {
   "cell_type": "code",
   "execution_count": null,
   "metadata": {},
   "outputs": [],
   "source": [
    "def fromCSV(path,delimiter,quotechar):\n",
    "    import csv # import the csv module\n",
    "    data=list() # any data we will read will be returned in a list \n",
    "    with open(path, newline='') as csvfile: # open the file\n",
    "        filecontent = csv.DictReader(csvfile, delimiter=delimiter, quotechar=quotechar) \n",
    "        # access the content of the file\n",
    "        for row in filecontent:#iterate through the rows \n",
    "            data.append(row) #save the rows in the data list. Each row is a dictionary \n",
    "    return data\n",
    "\n",
    "def extract_year(row):\n",
    "    pass\n",
    "\n",
    "data=fromCSV(path='data/stocks.csv',delimiter=',',quotechar='|') \n",
    "print(data[0])\n",
    "\n",
    "data_mapped = map(extract_year,data)\n",
    "data_mapped_list = list(data_mapped)\n",
    "print(data_mapped_list[0])"
   ]
  },
  {
   "cell_type": "markdown",
   "metadata": {},
   "source": [
    "## Practice 3\n",
    "Update the code below to compute the sum of pairs of values in a list and a tuple. \n",
    "\n",
    "The resulting list should be:\n",
    "\n",
    "    [6, 8, 10, 12]"
   ]
  },
  {
   "cell_type": "code",
   "execution_count": null,
   "metadata": {},
   "outputs": [],
   "source": [
    "list_numbers = [1, 2, 3, 4]\n",
    "tuple_numbers = (5, 6, 7, 8)\n",
    "print(list_numbers)\n",
    "print(tuple_numbers)\n",
    "\n",
    "map_iterator = map(lambda x, y: x * y, list_numbers, tuple_numbers)\n",
    "\n",
    "map_list= list(map_iterator)\n",
    "print(map_list)"
   ]
  }
 ],
 "metadata": {
  "kernelspec": {
   "display_name": "Python 3",
   "language": "python",
   "name": "python3"
  },
  "language_info": {
   "codemirror_mode": {
    "name": "ipython",
    "version": 3
   },
   "file_extension": ".py",
   "mimetype": "text/x-python",
   "name": "python",
   "nbconvert_exporter": "python",
   "pygments_lexer": "ipython3",
   "version": "3.7.3"
  }
 },
 "nbformat": 4,
 "nbformat_minor": 2
}
