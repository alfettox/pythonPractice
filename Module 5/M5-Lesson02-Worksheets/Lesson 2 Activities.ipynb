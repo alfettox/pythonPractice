{
 "cells": [
  {
   "cell_type": "markdown",
   "metadata": {},
   "source": [
    "# Lesson 2 Activities\n",
    "\n",
    "The activities in this page allow you to demonstrate your ability to:\n",
    "\n",
    "-   Use Python's `map` function to apply a function to each element of an iterable object.\n",
    "\n",
    "-   Use Python's `filter` function to identify specific elements in a collection that meet defined criteria and extract those elements to a new collection.\n",
    "\n",
    "-   Use Python's `reduce` function to apply an operation sequentially to the elements in a collection."
   ]
  },
  {
   "cell_type": "markdown",
   "metadata": {},
   "source": [
    "## Activity 1\n",
    "\n",
    "Create a script that uses the `map` function to compute the square root of each value in an input set of integers."
   ]
  },
  {
   "cell_type": "code",
   "execution_count": null,
   "metadata": {},
   "outputs": [],
   "source": [
    "# your code here"
   ]
  },
  {
   "cell_type": "markdown",
   "metadata": {},
   "source": [
    "## Activity 2\n",
    "\n",
    "Create a script that uses the `map` function to convert the contents of a text file into uppercase."
   ]
  },
  {
   "cell_type": "code",
   "execution_count": null,
   "metadata": {},
   "outputs": [],
   "source": [
    "# your code here"
   ]
  },
  {
   "cell_type": "markdown",
   "metadata": {},
   "source": [
    "## Activity 3\n",
    "\n",
    "Create a script that uses the `map` function to determine which integers are prime numbers in an input list of integers."
   ]
  },
  {
   "cell_type": "code",
   "execution_count": null,
   "metadata": {},
   "outputs": [],
   "source": [
    "# your code here"
   ]
  },
  {
   "cell_type": "markdown",
   "metadata": {},
   "source": [
    "## Activity 4\n",
    "\n",
    "Create a script that uses the `map` function to compute the absolute value of each integer in an input list."
   ]
  },
  {
   "cell_type": "code",
   "execution_count": null,
   "metadata": {},
   "outputs": [],
   "source": [
    "# your code here"
   ]
  },
  {
   "cell_type": "markdown",
   "metadata": {},
   "source": [
    "## Activity 5\n",
    "\n",
    "Create a script that uses the `map` function to check which numbers are divisible by 3 in an input list of numbers."
   ]
  },
  {
   "cell_type": "code",
   "execution_count": null,
   "metadata": {},
   "outputs": [],
   "source": [
    "# your code here"
   ]
  },
  {
   "cell_type": "markdown",
   "metadata": {},
   "source": [
    "## Activity 6\n",
    "\n",
    "Create a script that uses the `reduce` function to compute the highest number in a tuple.\n"
   ]
  },
  {
   "cell_type": "code",
   "execution_count": null,
   "metadata": {},
   "outputs": [],
   "source": [
    "# your code here"
   ]
  },
  {
   "cell_type": "markdown",
   "metadata": {},
   "source": [
    "## Activity 7\n",
    "\n",
    "Create a script that uses the `reduce` function to compute the lowest number in a tuple."
   ]
  },
  {
   "cell_type": "code",
   "execution_count": null,
   "metadata": {},
   "outputs": [],
   "source": [
    "# your code here"
   ]
  },
  {
   "cell_type": "markdown",
   "metadata": {},
   "source": [
    "## Activity 8\n",
    "\n",
    "Create a script that uses the `reduce` function to identify the key in a dictionary that is last in alphabetical order.\n",
    "\n",
    "Example input:\n",
    "\n",
    "    dict_my = {\"elephant\":1, \"zebra\":4, \"panther\":5}\n",
    "\n",
    "Output:\n",
    "\n",
    "    zebra\n",
    "\n",
    "In this case, \"zebra\" is the key that appears last in alphabetical order."
   ]
  },
  {
   "cell_type": "code",
   "execution_count": null,
   "metadata": {},
   "outputs": [],
   "source": [
    "# your code here"
   ]
  },
  {
   "cell_type": "markdown",
   "metadata": {},
   "source": [
    "## Activity 9\n",
    "\n",
    "Create a script that uses the `reduce` function to identify the highest value in a dictionary.\n",
    "\n",
    "Example input:\n",
    "\n",
    "    dict_my = {\"elephant\":1, \"zebra\":4, \"panther\":5}\n",
    "\n",
    "Output:\n",
    "\n",
    "    panther\n",
    "\n",
    "In this case, panther has the highest value, 5."
   ]
  },
  {
   "cell_type": "code",
   "execution_count": null,
   "metadata": {},
   "outputs": [],
   "source": [
    "# your code here"
   ]
  },
  {
   "cell_type": "markdown",
   "metadata": {},
   "source": [
    "\n",
    "## Activity 10\n",
    "\n",
    "Create a script that uses the `reduce` function to compute the sum of all even numbers in a list of numbers.\n",
    "\n",
    "For example, given the list `[3, 4, 5, 9, 6]`, the output should be `10`. (4 and 6 are the only even numbers in the list, and 4 + 6 = 10.)"
   ]
  },
  {
   "cell_type": "code",
   "execution_count": null,
   "metadata": {},
   "outputs": [],
   "source": [
    "# your code here"
   ]
  },
  {
   "cell_type": "markdown",
   "metadata": {},
   "source": [
    "## Activity 11\n",
    "\n",
    "Create a script that uses the `reduce` function to compute the sum of all positive numbers within a list of numbers.\n",
    "\n",
    "For example, the input `[1, 2, -1, -2, 1]` should output `4` (the sum of 1 + 2 + 1)."
   ]
  },
  {
   "cell_type": "code",
   "execution_count": null,
   "metadata": {},
   "outputs": [],
   "source": [
    "# your code here"
   ]
  },
  {
   "cell_type": "markdown",
   "metadata": {},
   "source": [
    "## Activity 12\n",
    "\n",
    "Create a script that uses the `reduce` function to compute the sum of all negative numbers within a list of numbers.\n",
    "\n",
    "For example, `[1,2,-1,-2,1]` should output `-3` (the sum of -1 + -2)."
   ]
  },
  {
   "cell_type": "code",
   "execution_count": null,
   "metadata": {},
   "outputs": [],
   "source": [
    "# your code here"
   ]
  },
  {
   "cell_type": "markdown",
   "metadata": {},
   "source": [
    "## Activity 13\n",
    "\n",
    "Create a script that uses the `reduce` function to compute the trading day where the highest volume was recorded in the *stocks.csv* file.\n",
    "\n",
    "You may use any functions that are appropriate for the task, but you must include the `reduce` function at least once.\n",
    "\n",
    "Display the results in a user-friendly format."
   ]
  },
  {
   "cell_type": "code",
   "execution_count": null,
   "metadata": {},
   "outputs": [],
   "source": [
    "# your code here"
   ]
  },
  {
   "cell_type": "markdown",
   "metadata": {},
   "source": [
    "## Activity 14\n",
    "\n",
    "Create a script that uses the `filter` function to identify all records in the *stocks.csv* file where the opening price is higher than the closing price."
   ]
  },
  {
   "cell_type": "code",
   "execution_count": null,
   "metadata": {},
   "outputs": [],
   "source": [
    "# your code here"
   ]
  },
  {
   "cell_type": "markdown",
   "metadata": {},
   "source": [
    "## Activity 15\n",
    "\n",
    "Create a script that uses the `filter` function to identify all records in the *stocks.csv* file where the highest price of the day is the open price."
   ]
  },
  {
   "cell_type": "code",
   "execution_count": null,
   "metadata": {},
   "outputs": [],
   "source": [
    "# your code here"
   ]
  },
  {
   "cell_type": "markdown",
   "metadata": {},
   "source": [
    "## Activity 16\n",
    "\n",
    "Create a script that uses the `filter` function to identify all records in the *stocks.csv* file where the highest price of the day is the close price."
   ]
  },
  {
   "cell_type": "code",
   "execution_count": null,
   "metadata": {},
   "outputs": [],
   "source": [
    "# your code here"
   ]
  }
 ],
 "metadata": {
  "kernelspec": {
   "display_name": "Python 3",
   "language": "python",
   "name": "python3"
  },
  "language_info": {
   "codemirror_mode": {
    "name": "ipython",
    "version": 3
   },
   "file_extension": ".py",
   "mimetype": "text/x-python",
   "name": "python",
   "nbconvert_exporter": "python",
   "pygments_lexer": "ipython3",
   "version": "3.7.3"
  }
 },
 "nbformat": 4,
 "nbformat_minor": 2
}
