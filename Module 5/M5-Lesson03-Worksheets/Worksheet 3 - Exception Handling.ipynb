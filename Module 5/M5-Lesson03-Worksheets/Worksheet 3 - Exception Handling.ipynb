{
 "cells": [
  {
   "cell_type": "markdown",
   "metadata": {},
   "source": [
    "# Exception Handling\n",
    "\n",
    "This worksheet accompanies *Lesson 3: Exception Handling* in the online course. Refer to that page as necessary to complete these practice activities."
   ]
  },
  {
   "cell_type": "markdown",
   "metadata": {},
   "source": [
    "## Practice 1\n",
    "Create a Python script that will produce another type of built-in exception. Examples include missing files or conversion or import errors."
   ]
  },
  {
   "cell_type": "code",
   "execution_count": null,
   "metadata": {},
   "outputs": [],
   "source": [
    "# your code here "
   ]
  },
  {
   "cell_type": "markdown",
   "metadata": {},
   "source": [
    "## Practice 2\n",
    "Create a script that opens a text file and define a user-friendly exception message that displays if the file does not exist.\n",
    "\n",
    "You may use one of the text files provided in the data files for this course or create your own. Test the script using both a valid path and an invalid path.\n",
    "\n",
    "**Tip**: To identify Python's name for an error (as well as the built-in message), run the program in a way that it produces the error(s) you want to catch. Use Python's output on the error to build the `except` statement."
   ]
  },
  {
   "cell_type": "code",
   "execution_count": null,
   "metadata": {},
   "outputs": [],
   "source": [
    "# your code here "
   ]
  },
  {
   "cell_type": "markdown",
   "metadata": {},
   "source": [
    "## Practice 3\n",
    "In the example above, we don't check for errors until Python runs the operation. From a user perspective, though, it is often better to check values as they are entered by the user, so that the user has the opportunity to correct the input values before running the program.\n",
    "\n",
    "Create a script that performs the following tasks:\n",
    "* Prompt the user for two values.\n",
    "* Check both values to see if they are numbers (integer or float).\n",
    "  * If either value is not a number, display a message to the user and prompt for an appropriate value to use instead.\n",
    "* Check that the second number is not zero.\n",
    "  * If the second number is zero, display a message to the user and prompt for an appropriate value to use instead.\n",
    "* Divide the first number by the second number and display the result."
   ]
  },
  {
   "cell_type": "code",
   "execution_count": null,
   "metadata": {},
   "outputs": [],
   "source": [
    "# your code here "
   ]
  },
  {
   "cell_type": "markdown",
   "metadata": {},
   "source": [
    "## Practice 4\n",
    "Complete the code below so that it checks each element of a list and returns only the valid numbers. \n",
    "\n",
    "Use `try:except` as appropriate. "
   ]
  },
  {
   "cell_type": "code",
   "execution_count": null,
   "metadata": {},
   "outputs": [],
   "source": [
    "def check_numbers(input_list):\n",
    "    pass\n",
    "\n",
    "input_list = [1,'c',True,\"Haythem\",23,6,6.7,-1]\n",
    "print(input_list)\n",
    "\n",
    "# check_numbers should return a list that contains the valid numbers. \n",
    "numbers = check_numbers(input_list) \n",
    "print(numbers)"
   ]
  },
  {
   "cell_type": "markdown",
   "metadata": {},
   "source": [
    "## Practice 5\n",
    "Modify the code so that it displays the message for the `ZeroDivisionError` exception instead of the `TypeError` division. Do not change the values used in the variables or the existing `except` statements.\n",
    "\n",
    "**Challenge Activity**: Can you add an operation to the `try` statement that would cause the default `except` statement to execute, without changing either of the existing `except` statements?"
   ]
  },
  {
   "cell_type": "code",
   "execution_count": null,
   "metadata": {},
   "outputs": [],
   "source": [
    "b = 0\n",
    "a = 1\n",
    "c = 'd'\n",
    "\n",
    "# make changes only to the try statement\n",
    "try:\n",
    "    y = a/c \n",
    "    x = a/b \n",
    "    print(x)\n",
    "    print(y)\n",
    "\n",
    "# do not change the except statements\n",
    "except ZeroDivisionError as e:\n",
    "    print(\"Oops, ZeroDivisionError! We cannot divide by zero. Try again...\")\n",
    "    \n",
    "except TypeError as t:\n",
    "    print(\"Oops, TypeError! That was not a valid number. Try again...\")\n",
    "    \n",
    "except:\n",
    "    print(\"Unexpected error. Try again.\", sys.exc_info()[0]) \n",
    "    raise"
   ]
  },
  {
   "cell_type": "markdown",
   "metadata": {},
   "source": [
    "## Practice 6\n",
    "Use `raise` to define a type of exception other than `NameError`."
   ]
  },
  {
   "cell_type": "code",
   "execution_count": null,
   "metadata": {},
   "outputs": [],
   "source": [
    "# your code here "
   ]
  },
  {
   "cell_type": "markdown",
   "metadata": {},
   "source": [
    "## Practice 7\n",
    "Change the code below to add a `try:except` statement to gracefully handle cases where the file is missing. \n",
    "\n",
    "If Python cannot find the specified file, the script should simply return \"None.\"\n",
    "\n",
    "Use the `IOError` exception type in the `except` statement. "
   ]
  },
  {
   "cell_type": "code",
   "execution_count": null,
   "metadata": {},
   "outputs": [],
   "source": [
    "def read_csv(filepath,delimiter=\",\"):\n",
    "    import csv\n",
    "    dataset = list()\n",
    "    with open(filepath) as f: #use open function to read the C.csv file and create a file object f\n",
    "        #use the reader function under the csv module to read the file using comma a delimiter\n",
    "        csv_file = csv.DictReader(f, delimiter=delimiter) \n",
    "        #csv_file is an iterable object that we can iterate on using a for loop\n",
    "        for row in csv_file:\n",
    "            dataset.append(row)\n",
    "    return dataset"
   ]
  },
  {
   "cell_type": "markdown",
   "metadata": {},
   "source": [
    "## Practice 8\n",
    "Modify the code to see what happens if the `try` statement works to open an existing file."
   ]
  },
  {
   "cell_type": "code",
   "execution_count": null,
   "metadata": {},
   "outputs": [],
   "source": [
    "try:\n",
    "    f = open(\"data/text.txt\", \"r\")  \n",
    "    print(len(f.read()))\n",
    "    \n",
    "except IOError as e: \n",
    "    print(\"Oops! File Not Found.\")\n",
    "    \n",
    "finally: \n",
    "    print(\"Thanks for trying!\")"
   ]
  }
 ],
 "metadata": {
  "kernelspec": {
   "display_name": "Python 3",
   "language": "python",
   "name": "python3"
  },
  "language_info": {
   "codemirror_mode": {
    "name": "ipython",
    "version": 3
   },
   "file_extension": ".py",
   "mimetype": "text/x-python",
   "name": "python",
   "nbconvert_exporter": "python",
   "pygments_lexer": "ipython3",
   "version": "3.7.3"
  }
 },
 "nbformat": 4,
 "nbformat_minor": 2
}
