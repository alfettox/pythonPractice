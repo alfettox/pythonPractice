{
 "cells": [
  {
   "cell_type": "markdown",
   "metadata": {},
   "source": [
    "# Lesson 3 Activities\n",
    "The activities in this page will demonstrate your ability to:\n",
    "\n",
    "* Define custom exception messages that will display when Python encounters an error in the code.\n",
    "* Use `try:except` to display a message based on the type of error Python encounters.\n",
    "* Use `try:except:finally` to continue running a script after Python has encountered an error.\n",
    "\n",
    "Some of the exercises on this page are based on activities completed in earlier modules. If you have the code for those activities, you are welcome to start with your existing code. However, you may find it useful to recreate those scripts here, as a review of the skills previously covered.\n",
    "\n",
    "In this version of those activities, you are asked to implement exception handling using the tools presented in this lesson. For example, update the scripts to handle cases like the following:\n",
    "\n",
    "* Missing files\n",
    "* Division by zero\n",
    "* Conversion error \n",
    "\n",
    "For the file I/O activities, you are welcome to use any appropriate file, including files provided for other activities, files you download from a website, or files that you create for this activity.\n",
    "\n",
    "Use `try:except` and `try:except:finally` where appropriate."
   ]
  },
  {
   "cell_type": "markdown",
   "metadata": {},
   "source": [
    "## Activity 1\n",
    "\n",
    "Create a  program that prompts the user to enter a number and then displays the type of the number entered (e.g., complex, integer, or float).\n",
    "\n",
    "For example, if the user enters 6, the output should be `int`.\n",
    "\n",
    "Implement appropriate exception handling for situations where the user enters a string that cannot be converted to a number."
   ]
  },
  {
   "cell_type": "code",
   "execution_count": 1,
   "metadata": {},
   "outputs": [],
   "source": [
    "# your code here"
   ]
  },
  {
   "cell_type": "markdown",
   "metadata": {},
   "source": [
    "## Activity 2\n",
    "\n",
    "Write a program that calculates and displays the current value of a deposit for a given initial deposit, interest rate, how many times interest is calculated per year, and the number of years since the initial deposit.\n",
    "\n",
    "The program should prompt the user for each of the values and use the following formula to calculate the current value of the deposit:\n",
    "\n",
    "    V = P(1 + r/n)^nt\n",
    "\n",
    "Where:\n",
    "\n",
    "* `V`: Value\n",
    "* `P`: Initial deposit\n",
    "* `r`: Interest rate as a fraction (e.g., 0.05)\n",
    "* `n`: The number of times per year interest is calculated\n",
    "* `t`: The number of years since the initial deposit\n",
    "\n",
    "The program should display each of the values entered to the user in a meaningful way so that the user can easily see what each value represents, along with the results of the calculation.\n",
    "\n",
    "Implement appropriate exception handling for each input where the user might enter a string value that cannot be used as a number. In particular, consider the following:\n",
    "\n",
    "* The user enters a percentage value like \"5%\" instead of \"0.05\" for the interest rate.\n",
    "* The user enters \"0\" for `n`, resulting in a division by 0 error."
   ]
  },
  {
   "cell_type": "code",
   "execution_count": 1,
   "metadata": {},
   "outputs": [],
   "source": [
    "# your code here"
   ]
  },
  {
   "cell_type": "markdown",
   "metadata": {},
   "source": [
    "## Activity 3\n",
    "\n",
    "Write a function that prompts the reader for an integer `n` and reads the first `n` lines of a file.\n",
    "\n",
    "Include a creative way to handle cases where `n` is greater than the number of lines available in the file.\n",
    "\n",
    "Add exception handling for these cases:\n",
    "\n",
    "* The user enters something other than an integer for `n`.\n",
    "* The file cannot be located."
   ]
  },
  {
   "cell_type": "code",
   "execution_count": 1,
   "metadata": {},
   "outputs": [],
   "source": [
    "# your code here"
   ]
  },
  {
   "cell_type": "markdown",
   "metadata": {},
   "source": [
    "## Activity 4\n",
    "\n",
    "Write a function that takes as input the path to two text files and concatenates the files into a single new file.\n",
    "\n",
    "Add exception handling for problems with one or both input files."
   ]
  },
  {
   "cell_type": "code",
   "execution_count": 1,
   "metadata": {},
   "outputs": [],
   "source": [
    "# your code here"
   ]
  },
  {
   "cell_type": "markdown",
   "metadata": {},
   "source": [
    "## Activity 5\n",
    "\n",
    "Write a function that takes a variable length of text files and concatenate the files into a single new file.\n",
    "\n",
    "Add exception handling for problems with any of the files."
   ]
  },
  {
   "cell_type": "code",
   "execution_count": 1,
   "metadata": {},
   "outputs": [],
   "source": [
    "# your code here"
   ]
  },
  {
   "cell_type": "markdown",
   "metadata": {},
   "source": [
    "## Activity 6\n",
    "\n",
    "Write a function that reads a text file line by line, stores each line in a list, and then returns the list.\n",
    "\n",
    "Add exception handling for problems with the file."
   ]
  },
  {
   "cell_type": "code",
   "execution_count": 1,
   "metadata": {},
   "outputs": [],
   "source": [
    "# your code here"
   ]
  },
  {
   "cell_type": "markdown",
   "metadata": {},
   "source": [
    "## Activity 7\n",
    "\n",
    "Write a function that takes as input the path to a text file and returns the longest word in the text file.\n",
    "\n",
    "Add exception handling for problems with the file."
   ]
  },
  {
   "cell_type": "code",
   "execution_count": 1,
   "metadata": {},
   "outputs": [],
   "source": [
    "# your code here"
   ]
  },
  {
   "cell_type": "markdown",
   "metadata": {},
   "source": [
    "## Challenge Activity\n",
    "Go back through other exercises you have completed in this course or this module and identify places where you can add exception handling to improve the user experience. Rewrite those exercises to include exception handling."
   ]
  },
  {
   "cell_type": "code",
   "execution_count": 1,
   "metadata": {},
   "outputs": [],
   "source": [
    "# your code here"
   ]
  }
 ],
 "metadata": {
  "kernelspec": {
   "display_name": "Python 3",
   "language": "python",
   "name": "python3"
  },
  "language_info": {
   "codemirror_mode": {
    "name": "ipython",
    "version": 3
   },
   "file_extension": ".py",
   "mimetype": "text/x-python",
   "name": "python",
   "nbconvert_exporter": "python",
   "pygments_lexer": "ipython3",
   "version": "3.7.3"
  }
 },
 "nbformat": 4,
 "nbformat_minor": 2
}
