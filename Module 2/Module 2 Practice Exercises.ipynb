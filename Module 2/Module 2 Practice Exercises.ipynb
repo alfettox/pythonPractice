{
 "cells": [
  {
   "cell_type": "code",
   "execution_count": 6,
   "id": "32cf576a",
   "metadata": {},
   "outputs": [
    {
     "name": "stdout",
     "output_type": "stream",
     "text": [
      "Please enter an integer: 2\n",
      "x is: <class 'str'>\n",
      "y is: <class 'int'>\n",
      "The value is 2 with type <class 'int'>\n"
     ]
    }
   ],
   "source": [
    "#Activity 1\n",
    "\n",
    "x = input(\"Please enter an integer: \");\n",
    "\n",
    "print(\"x is: \", type(x));\n",
    "\n",
    "y = int(x);\n",
    "\n",
    "print(type(y))\n",
    "print(\"The value of y is: \", y, \", the type of y is: \" , type(y))"
   ]
  },
  {
   "cell_type": "code",
   "execution_count": 17,
   "id": "443f00ad",
   "metadata": {},
   "outputs": [
    {
     "name": "stdout",
     "output_type": "stream",
     "text": [
      "Enter the initial deposit: 1000\n",
      "Enter the interest rate: 5\n",
      "Number of times the interest cumulate each year: 1\n",
      "Number of years since initial deposit: 5\n",
      "Cumulative amount, after {t} years:  1276.2815625000003\n",
      "Cumulative amount, after 5 years:  1276.28 $\n"
     ]
    }
   ],
   "source": [
    "#Activity 2 - Interest rate\n",
    "\n",
    "p = int(input(\"Enter the initial deposit: \"))\n",
    "r = int(input(\"Enter the interest rate: \"))\n",
    "rPercent = float(r)/100;\n",
    "n = int(input(\"Number of times the interest cumulate each year: \"));\n",
    "t = int(input(\"Number of years since initial deposit: \"))\n",
    "\n",
    "v = p *(1+ rPercent/n)**(n*t);\n",
    "v_rounded = round(v, 2);\n",
    "\n",
    "print(\"Cumulative amount, after {t} years: \", v)\n",
    "print(f\"Cumulative amount, after {t} years: \", v_rounded, \"$\")"
   ]
  },
  {
   "cell_type": "code",
   "execution_count": 19,
   "id": "d7e604ed",
   "metadata": {},
   "outputs": [
    {
     "name": "stdout",
     "output_type": "stream",
     "text": [
      "Enter the purchase total: $51\n",
      "Enter the sales tax rate (%): 4\n",
      "Total price of the sale: $53.04\n"
     ]
    }
   ],
   "source": [
    "# Create a computer program that prompts the user for a purchase total and a sales tax rate and then returns the total price of the sale.\n",
    "\n",
    "purchase_total = float(input(\"Enter the purchase total: $\"))\n",
    "tax_rate = float(input(\"Enter the sales tax rate (%): \"))\n",
    "\n",
    "tax_amount = purchase_total * (tax_rate / 100)\n",
    "total_price = purchase_total + tax_amount\n",
    "\n",
    "print(f\"Total price of the sale: ${total_price:.2f}\")\n"
   ]
  },
  {
   "cell_type": "code",
   "execution_count": 20,
   "id": "2e2af8dd",
   "metadata": {},
   "outputs": [
    {
     "name": "stdout",
     "output_type": "stream",
     "text": [
      "Input a number: 5\n",
      "Input another number: 6\n",
      "6.0 is greater than 5.0\n"
     ]
    }
   ],
   "source": [
    "#Write out the following program and run it using 4 as the first value and 10 as the second value.\n",
    "first = float(input(\"Input a number: \"))\n",
    "second = float(input(\"Input another number: \"))\n",
    "\n",
    "if first > second:\n",
    "    print(str(first) + \" is greater than \" + str(second))\n",
    "elif first < second:\n",
    "    print(str(second) + \" is greater than \" + str(first))\n",
    "else:\n",
    "    print(\"They are the same number!\")\n",
    "\n",
    "\n",
    "\n"
   ]
  },
  {
   "cell_type": "code",
   "execution_count": 28,
   "id": "acc309b9",
   "metadata": {},
   "outputs": [
    {
     "name": "stdout",
     "output_type": "stream",
     "text": [
      "Enter a number: 1\n",
      "Enter a number: 2\n",
      "Enter a number: 3\n",
      "Enter a number: 4\n",
      "Enter a number: 5\n",
      "[1, 2, 3, 4, 5]\n",
      "product of items:  120\n",
      "sum of items:  15\n",
      "average of items:  3.0\n"
     ]
    }
   ],
   "source": [
    "# Activity 7\n",
    "\n",
    "list = [];\n",
    "i=1;\n",
    "while(i<=5):\n",
    "    num = int(input(\"Enter a number: \"));\n",
    "    list.append(num);\n",
    "    i += 1\n",
    "    \n",
    "prod = 1\n",
    "sumIt=0;\n",
    "for n in list:\n",
    "    prod *=n;\n",
    "    sumIt +=n;\n",
    "\n",
    "average = sumIt / len(list);\n",
    "\n",
    "print(list);\n",
    "print(\"product of items: \", prod)\n",
    "print(\"sum of items: \", sumIt)\n",
    "print(\"average of items: \", average)\n"
   ]
  },
  {
   "cell_type": "code",
   "execution_count": 36,
   "id": "b7b4853a",
   "metadata": {},
   "outputs": [
    {
     "name": "stdout",
     "output_type": "stream",
     "text": [
      "Enter the complete address XX Main Street15 rue de vert\n",
      "Street is: rue de vert\n",
      "houseNumber is:  15\n"
     ]
    }
   ],
   "source": [
    "#Activity 10 - address\n",
    "address = input(\"Enter the complete address XX Main Street\")\n",
    "houseNumber = address.split()[0];\n",
    "streetName = address.split()[1:];\n",
    "print(\"Street is:\", \" \".join(streetName));\n",
    "print(\"houseNumber is: \", houseNumber)"
   ]
  }
 ],
 "metadata": {
  "kernelspec": {
   "display_name": "Python 3 (ipykernel)",
   "language": "python",
   "name": "python3"
  },
  "language_info": {
   "codemirror_mode": {
    "name": "ipython",
    "version": 3
   },
   "file_extension": ".py",
   "mimetype": "text/x-python",
   "name": "python",
   "nbconvert_exporter": "python",
   "pygments_lexer": "ipython3",
   "version": "3.10.9"
  }
 },
 "nbformat": 4,
 "nbformat_minor": 5
}
