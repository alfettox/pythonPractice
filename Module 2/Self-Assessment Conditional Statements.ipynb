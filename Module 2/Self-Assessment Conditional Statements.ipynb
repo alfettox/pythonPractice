{
 "cells": [
  {
   "cell_type": "code",
   "execution_count": 4,
   "id": "cf2de402",
   "metadata": {},
   "outputs": [
    {
     "name": "stdout",
     "output_type": "stream",
     "text": [
      "What's your last name: Defra\n",
      "Aha! You're on the team \"Black Holes\"\n"
     ]
    }
   ],
   "source": [
    "#teams!\n",
    "\n",
    "name = input('What\\'s your last name: ')\n",
    "\n",
    "fChar = name[0].upper();\n",
    "\n",
    "\n",
    "if(fChar == 'A' or fChar =='B' or fChar == 'C'):\n",
    "    print('Aha! You\\'re on the team \"Red Dragons\"');\n",
    "elif(fChar =='E' or fChar == 'F' or fChar =='G' or fChar=='H'):\n",
    "    print('Aha! You\\'re on the team \"Dark Wizards\"');\n",
    "elif(fChar =='I' or fChar == 'J' or fChar =='K' or fChar=='L'):\n",
    "    print('Aha! You\\'re on the team \"Moving Castles.\"');\n",
    "elif(fChar =='M' or fChar == 'N' or fChar =='O' or fChar=='P'):\n",
    "    print('Aha! You\\'re on the team \"Golden Snitches\"');\n",
    "elif(fChar =='Q' or fChar == 'R' or fChar =='S' or fChar=='T'):\n",
    "    print('Aha! You\\'re on the team \"Night Guards.\"');\n",
    "else:\n",
    "    print('Aha! You\\'re on the team \"Black Holes\"');\n",
    "    "
   ]
  },
  {
   "cell_type": "code",
   "execution_count": null,
   "id": "0b04b42b",
   "metadata": {},
   "outputs": [],
   "source": []
  }
 ],
 "metadata": {
  "kernelspec": {
   "display_name": "Python 3 (ipykernel)",
   "language": "python",
   "name": "python3"
  },
  "language_info": {
   "codemirror_mode": {
    "name": "ipython",
    "version": 3
   },
   "file_extension": ".py",
   "mimetype": "text/x-python",
   "name": "python",
   "nbconvert_exporter": "python",
   "pygments_lexer": "ipython3",
   "version": "3.10.9"
  }
 },
 "nbformat": 4,
 "nbformat_minor": 5
}
