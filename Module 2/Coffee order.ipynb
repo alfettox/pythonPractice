{
 "cells": [
  {
   "cell_type": "code",
   "execution_count": 11,
   "id": "104a6610",
   "metadata": {},
   "outputs": [
    {
     "name": "stdout",
     "output_type": "stream",
     "text": [
      "What size? small/medium/largelarge\n",
      "What type? brewed/espresso/cold brewcold brew\n",
      "What flavor? hazelnut/vanilla/caramelcaramel\n",
      "You ordered:\n",
      "Size: large\n",
      "Type: cold brew\n",
      "Flavor: caramel\n",
      "Total cost: 6.325 $ (including a 15% tip)\n"
     ]
    }
   ],
   "source": [
    "size = input(\"What size? small/medium/large\")\n",
    "cType = input(\"What type? brewed/espresso/cold brew\")\n",
    "flavor = input(\"What flavor? hazelnut/vanilla/caramel\")\n",
    "\n",
    "totalCost = 0\n",
    "\n",
    "if size == 'small':\n",
    "    totalCost += 2\n",
    "elif size == 'medium':\n",
    "    totalCost += 3\n",
    "else:\n",
    "    totalCost += 4\n",
    "\n",
    "if cType == 'espresso':\n",
    "    totalCost += 0.50\n",
    "elif cType == 'cold brew':\n",
    "    totalCost += 1\n",
    "\n",
    "if flavor != '':\n",
    "    totalCost += 0.50\n",
    "\n",
    "tip = totalCost * 0.15\n",
    "totalCost += tip\n",
    "\n",
    "print(\"You ordered:\")\n",
    "print(\"Size:\", size)\n",
    "print(\"Type:\", cType)\n",
    "print(\"Flavor:\", flavor)\n",
    "print(\"Total cost:\", totalCost, \"$ (including a 15% tip)\")\n"
   ]
  },
  {
   "cell_type": "code",
   "execution_count": null,
   "id": "6e4957ad",
   "metadata": {},
   "outputs": [],
   "source": []
  }
 ],
 "metadata": {
  "kernelspec": {
   "display_name": "Python 3 (ipykernel)",
   "language": "python",
   "name": "python3"
  },
  "language_info": {
   "codemirror_mode": {
    "name": "ipython",
    "version": 3
   },
   "file_extension": ".py",
   "mimetype": "text/x-python",
   "name": "python",
   "nbconvert_exporter": "python",
   "pygments_lexer": "ipython3",
   "version": "3.10.9"
  }
 },
 "nbformat": 4,
 "nbformat_minor": 5
}
