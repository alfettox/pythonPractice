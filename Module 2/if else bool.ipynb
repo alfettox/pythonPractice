{
 "cells": [
  {
   "cell_type": "code",
   "execution_count": 7,
   "id": "defb5dc3",
   "metadata": {},
   "outputs": [
    {
     "name": "stdout",
     "output_type": "stream",
     "text": [
      "Insert the amount of money that you have in your wallet: 51\n",
      "You're rich!\n"
     ]
    }
   ],
   "source": [
    "#Activities: Conditional Statements\n",
    "\n",
    "#Activity 1\n",
    "cashWallet = int(input(\"Insert the amount of money that you have in your wallet: \"))\n",
    "\n",
    "if cashWallet <20:\n",
    "    print('You\\'re broke!')\n",
    "else:\n",
    "    print('You\\'re rich!')"
   ]
  },
  {
   "cell_type": "code",
   "execution_count": 15,
   "id": "f94c2b1b",
   "metadata": {},
   "outputs": [
    {
     "name": "stdout",
     "output_type": "stream",
     "text": [
      "Do you have cats? (y/n)n\n",
      "Do you have dogs? (y/n)y\n",
      "Maybe you need more pets.\n"
     ]
    }
   ],
   "source": [
    "#Activity 2:\n",
    "hasCats = input('Do you have cats? (y/n)')\n",
    "hasDogs = input('Do you have dogs? (y/n)')\n",
    "\n",
    "hasCatsBool = hasCats == 'y'\n",
    "hasDogsBool = hasDogs == 'y'\n",
    "\n",
    "if hasCatsBool and hasDogsBool:\n",
    "    print('You must really love pets!')\n",
    "else:\n",
    "    print(\"Maybe you need more pets.\")\n"
   ]
  },
  {
   "cell_type": "code",
   "execution_count": 16,
   "id": "4cf74d8d",
   "metadata": {},
   "outputs": [
    {
     "name": "stdout",
     "output_type": "stream",
     "text": [
      "Do you have cats? (y/n)n\n",
      "Do you have dogs? (y/n)n\n",
      "Maybe you need more pets.\n"
     ]
    }
   ],
   "source": [
    "# OR\n",
    "hasCats = input('Do you have cats? (y/n)') == 'y'\n",
    "hasDogs = input('Do you have dogs? (y/n)') == 'y'\n",
    "\n",
    "if hasCats and hasDogs:\n",
    "    print('You must really love pets!')\n",
    "else:\n",
    "    print(\"Maybe you need more pets.\")\n"
   ]
  },
  {
   "cell_type": "code",
   "execution_count": 23,
   "id": "702487f3",
   "metadata": {},
   "outputs": [
    {
     "name": "stdout",
     "output_type": "stream",
     "text": [
      "enter the season: (fall, winter, spring, summer)s\n",
      "BAD CHOICE!\n",
      "enter the season: (fall, winter, spring, summer)s\n",
      "BAD CHOICE!\n",
      "enter the season: (fall, winter, spring, summer)vc\n",
      "BAD CHOICE!\n",
      "enter the season: (fall, winter, spring, summer)d\n",
      "BAD CHOICE!\n",
      "enter the season: (fall, winter, spring, summer)d\n",
      "BAD CHOICE!\n",
      "enter the season: (fall, winter, spring, summer)sa\n",
      "BAD CHOICE!\n",
      "enter the season: (fall, winter, spring, summer)sum\n",
      "BAD CHOICE!\n",
      "enter the season: (fall, winter, spring, summer)suimer\n",
      "BAD CHOICE!\n",
      "enter the season: (fall, winter, spring, summer)summer\n",
      "Make sure your AC is working!\n"
     ]
    }
   ],
   "source": [
    "#Activity 4\n",
    "\n",
    "\n",
    "\n",
    "while(True):\n",
    "    inputSeason = input(\"enter the season: (fall, winter, spring, summer)\")\n",
    "    if(inputSeason == 'fall'):\n",
    "        print('I bet the leaves are pretty there!');\n",
    "        break;\n",
    "    elif(inputSeason == 'winter'):\n",
    "        print('I hope you\\'re ready for snow!');\n",
    "        break;\n",
    "    elif(inputSeason == 'spring'):\n",
    "        print('I can smell the flowers!');\n",
    "        break;\n",
    "    elif(inputSeason == 'summer'):\n",
    "        print('Make sure your AC is working!');\n",
    "        break;\n",
    "    else:\n",
    "        print('BAD CHOICE!');"
   ]
  },
  {
   "cell_type": "code",
   "execution_count": null,
   "id": "e781754a",
   "metadata": {},
   "outputs": [],
   "source": []
  }
 ],
 "metadata": {
  "kernelspec": {
   "display_name": "Python 3 (ipykernel)",
   "language": "python",
   "name": "python3"
  },
  "language_info": {
   "codemirror_mode": {
    "name": "ipython",
    "version": 3
   },
   "file_extension": ".py",
   "mimetype": "text/x-python",
   "name": "python",
   "nbconvert_exporter": "python",
   "pygments_lexer": "ipython3",
   "version": "3.10.9"
  }
 },
 "nbformat": 4,
 "nbformat_minor": 5
}
