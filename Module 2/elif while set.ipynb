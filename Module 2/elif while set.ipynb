{
 "cells": [
  {
   "cell_type": "code",
   "execution_count": 26,
   "id": "4da9234f",
   "metadata": {},
   "outputs": [
    {
     "name": "stdout",
     "output_type": "stream",
     "text": [
      "Please insert a new dessert: Peppo\n",
      "Please choose the action (Add / Remove): add\n",
      "Add: {'Peppo'}\n",
      "Please insert a new dessert: Coriandoli\n",
      "Please choose the action (Add / Remove): add\n",
      "Add: {'Coriandoli'}\n",
      "Please insert a new dessert: removed\n",
      "Please choose the action (Add / Remove): remove\n",
      "error\n",
      "Updated set: {'cream', 'Coriandoli', 'gelato', 'biscuit', 'Peppo'}\n",
      "Original set:  {'cream', 'gelato', 'biscuit'}\n",
      "Differences:  {'Peppo', 'Coriandoli'}\n"
     ]
    }
   ],
   "source": [
    "mySet = {'gelato', 'biscuit', 'cream'}\n",
    "mySetOriginal = mySet.copy();\n",
    "\n",
    "while True:\n",
    "    usrVal = input('Please insert a new dessert: ')\n",
    "    op = input('Please choose the action (Add / Remove): ')\n",
    "\n",
    "    if op.lower() == 'remove':\n",
    "        if usrVal in mySet:\n",
    "           print('Remove:', {usrVal})\n",
    "           mySet.discard(usrVal)\n",
    "        else:\n",
    "           print(\"error\")\n",
    "           break;\n",
    "    elif op.lower() == 'add':\n",
    "        print('Add:', {usrVal})\n",
    "        mySet.add(usrVal)\n",
    "\n",
    "print('Updated set:', mySet)\n",
    "print('Original set: ', mySetOriginal)\n",
    "print('Differences: ', mySet-mySetOriginal)"
   ]
  },
  {
   "cell_type": "code",
   "execution_count": null,
   "id": "dbb6f917",
   "metadata": {},
   "outputs": [],
   "source": []
  }
 ],
 "metadata": {
  "kernelspec": {
   "display_name": "Python 3 (ipykernel)",
   "language": "python",
   "name": "python3"
  },
  "language_info": {
   "codemirror_mode": {
    "name": "ipython",
    "version": 3
   },
   "file_extension": ".py",
   "mimetype": "text/x-python",
   "name": "python",
   "nbconvert_exporter": "python",
   "pygments_lexer": "ipython3",
   "version": "3.10.9"
  }
 },
 "nbformat": 4,
 "nbformat_minor": 5
}
