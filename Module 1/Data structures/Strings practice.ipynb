{
 "cells": [
  {
   "cell_type": "code",
   "execution_count": 2,
   "id": "ddedcfd4",
   "metadata": {},
   "outputs": [
    {
     "name": "stdout",
     "output_type": "stream",
     "text": [
      "h\n",
      "T\n",
      "g\n",
      "n\n"
     ]
    }
   ],
   "source": [
    "#Strings\n",
    "\n",
    "strg = \"This is a string\"\n",
    "\n",
    "print(strg[1]);\n",
    "\n",
    "print(strg[0]);\n",
    "\n",
    "print(strg[-1]);\n",
    "print(strg[-2]);"
   ]
  },
  {
   "cell_type": "code",
   "execution_count": 3,
   "id": "cda297fd",
   "metadata": {},
   "outputs": [
    {
     "name": "stdout",
     "output_type": "stream",
     "text": [
      "string\n"
     ]
    }
   ],
   "source": [
    "print(strg[-6:])"
   ]
  },
  {
   "cell_type": "code",
   "execution_count": 5,
   "id": "1fcf5579",
   "metadata": {},
   "outputs": [
    {
     "name": "stdout",
     "output_type": "stream",
     "text": [
      "is a string\n"
     ]
    }
   ],
   "source": [
    "print(strg[5:len(strg)])"
   ]
  },
  {
   "cell_type": "code",
   "execution_count": null,
   "id": "0610496f",
   "metadata": {},
   "outputs": [],
   "source": []
  },
  {
   "cell_type": "code",
   "execution_count": null,
   "id": "cf29bc89",
   "metadata": {},
   "outputs": [],
   "source": []
  },
  {
   "cell_type": "code",
   "execution_count": 6,
   "id": "1a98969d",
   "metadata": {},
   "outputs": [
    {
     "data": {
      "text/plain": [
       "'This is a stringThis is a stringThis is a stringThis is a stringThis is a stringThis is a stringThis is a stringThis is a stringThis is a stringThis is a string'"
      ]
     },
     "execution_count": 6,
     "metadata": {},
     "output_type": "execute_result"
    }
   ],
   "source": [
    "strg*10"
   ]
  },
  {
   "cell_type": "code",
   "execution_count": 9,
   "id": "86498936",
   "metadata": {},
   "outputs": [
    {
     "name": "stdout",
     "output_type": "stream",
     "text": [
      "This is a string\n",
      " string\n",
      " string\n"
     ]
    }
   ],
   "source": [
    "strg += \"\\n string\"\n",
    "print(strg)"
   ]
  },
  {
   "cell_type": "code",
   "execution_count": null,
   "id": "44db9955",
   "metadata": {},
   "outputs": [],
   "source": []
  }
 ],
 "metadata": {
  "kernelspec": {
   "display_name": "Python 3 (ipykernel)",
   "language": "python",
   "name": "python3"
  },
  "language_info": {
   "codemirror_mode": {
    "name": "ipython",
    "version": 3
   },
   "file_extension": ".py",
   "mimetype": "text/x-python",
   "name": "python",
   "nbconvert_exporter": "python",
   "pygments_lexer": "ipython3",
   "version": "3.10.9"
  }
 },
 "nbformat": 4,
 "nbformat_minor": 5
}
