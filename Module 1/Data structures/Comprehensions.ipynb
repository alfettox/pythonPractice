{
 "cells": [
  {
   "cell_type": "code",
   "execution_count": 2,
   "id": "3ab79053",
   "metadata": {},
   "outputs": [
    {
     "name": "stdout",
     "output_type": "stream",
     "text": [
      "[2, 4, 6, 8, 8]\n"
     ]
    }
   ],
   "source": [
    "#Comprehensions\n",
    "\n",
    "lst_complete = [1,2,3,4,5,6,7,8,8]\n",
    "\n",
    "#list comprehensions\n",
    "lst_even = [var for var in lst_complete if var%2==0 ]\n",
    "print(lst_even)"
   ]
  },
  {
   "cell_type": "code",
   "execution_count": 3,
   "id": "b0696a57",
   "metadata": {},
   "outputs": [
    {
     "name": "stdout",
     "output_type": "stream",
     "text": [
      "{8, 2, 4, 6}\n"
     ]
    }
   ],
   "source": [
    "#set comprehensions\n",
    "set_even = {var for var in lst_complete if var%2 ==0}\n",
    "print(set_even)"
   ]
  },
  {
   "cell_type": "code",
   "execution_count": 5,
   "id": "61152fe2",
   "metadata": {},
   "outputs": [
    {
     "name": "stdout",
     "output_type": "stream",
     "text": [
      "{2: 20, 4: 40, 6: 60, 8: 80}\n"
     ]
    }
   ],
   "source": [
    "#dictionary comprehensions\n",
    "dic_even = {var: var * 10 for var in lst_complete if var % 2 == 0}\n",
    "print(dic_even)"
   ]
  },
  {
   "cell_type": "code",
   "execution_count": null,
   "id": "93809669",
   "metadata": {},
   "outputs": [],
   "source": []
  }
 ],
 "metadata": {
  "kernelspec": {
   "display_name": "Python 3 (ipykernel)",
   "language": "python",
   "name": "python3"
  },
  "language_info": {
   "codemirror_mode": {
    "name": "ipython",
    "version": 3
   },
   "file_extension": ".py",
   "mimetype": "text/x-python",
   "name": "python",
   "nbconvert_exporter": "python",
   "pygments_lexer": "ipython3",
   "version": "3.10.9"
  }
 },
 "nbformat": 4,
 "nbformat_minor": 5
}
