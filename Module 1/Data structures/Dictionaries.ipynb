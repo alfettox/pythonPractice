{
 "cells": [
  {
   "cell_type": "code",
   "execution_count": 1,
   "id": "972d9438",
   "metadata": {},
   "outputs": [
    {
     "name": "stdout",
     "output_type": "stream",
     "text": [
      "{0: 'Las capreras', 1: 'New Orca', 3: 'Parino'}\n"
     ]
    }
   ],
   "source": [
    "#Dictionaries\n",
    "\n",
    "city = {0:'Las capreras', 1:'New Orca', 3:'Parino'}\n",
    "print(city)"
   ]
  },
  {
   "cell_type": "code",
   "execution_count": 2,
   "id": "05bfc8d7",
   "metadata": {},
   "outputs": [
    {
     "name": "stdout",
     "output_type": "stream",
     "text": [
      "Las capreras\n"
     ]
    }
   ],
   "source": [
    "print(city[0])"
   ]
  },
  {
   "cell_type": "code",
   "execution_count": 5,
   "id": "9bc4c463",
   "metadata": {},
   "outputs": [
    {
     "name": "stdout",
     "output_type": "stream",
     "text": [
      "213\n"
     ]
    }
   ],
   "source": [
    "keyVal = {'Las capreras':213,'Nuova Edimbo':2131}\n",
    "print(keyVal['Las capreras'])\n"
   ]
  },
  {
   "cell_type": "code",
   "execution_count": 6,
   "id": "acf3d7ba",
   "metadata": {},
   "outputs": [
    {
     "name": "stdout",
     "output_type": "stream",
     "text": [
      "{'Las capreras': 213, 'Nuova Edimbo': 2131, 6: 'New element'}\n"
     ]
    }
   ],
   "source": [
    "keyVal[6] = 'New element'\n",
    "print(keyVal)"
   ]
  },
  {
   "cell_type": "code",
   "execution_count": 7,
   "id": "5da51e65",
   "metadata": {},
   "outputs": [
    {
     "name": "stdout",
     "output_type": "stream",
     "text": [
      "dict_keys(['Las capreras', 'Nuova Edimbo', 6])\n"
     ]
    }
   ],
   "source": [
    "print(keyVal.keys())"
   ]
  },
  {
   "cell_type": "code",
   "execution_count": null,
   "id": "611604a6",
   "metadata": {},
   "outputs": [],
   "source": []
  }
 ],
 "metadata": {
  "kernelspec": {
   "display_name": "Python 3 (ipykernel)",
   "language": "python",
   "name": "python3"
  },
  "language_info": {
   "codemirror_mode": {
    "name": "ipython",
    "version": 3
   },
   "file_extension": ".py",
   "mimetype": "text/x-python",
   "name": "python",
   "nbconvert_exporter": "python",
   "pygments_lexer": "ipython3",
   "version": "3.10.9"
  }
 },
 "nbformat": 4,
 "nbformat_minor": 5
}
