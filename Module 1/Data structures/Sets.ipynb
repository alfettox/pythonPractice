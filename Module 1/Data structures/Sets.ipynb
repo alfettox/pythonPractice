{
 "cells": [
  {
   "cell_type": "code",
   "execution_count": 3,
   "id": "82791961",
   "metadata": {},
   "outputs": [
    {
     "name": "stdout",
     "output_type": "stream",
     "text": [
      "{'Montreal', 'Terrebonne'}\n"
     ]
    }
   ],
   "source": [
    "#Set unique unordered collection\n",
    "\n",
    "mySet = {\"Montreal\", \"Terrebonne\", \"Montreal\"}\n",
    "print(mySet)\n",
    "\n"
   ]
  },
  {
   "cell_type": "code",
   "execution_count": 4,
   "id": "ef0b6cbd",
   "metadata": {},
   "outputs": [],
   "source": [
    "#accessing using a loop"
   ]
  },
  {
   "cell_type": "code",
   "execution_count": 5,
   "id": "d469862b",
   "metadata": {},
   "outputs": [
    {
     "name": "stdout",
     "output_type": "stream",
     "text": [
      "Montreal\n",
      "Terrebonne\n"
     ]
    }
   ],
   "source": [
    "for se in mySet:\n",
    "    print(se)"
   ]
  },
  {
   "cell_type": "code",
   "execution_count": 6,
   "id": "6f251a22",
   "metadata": {},
   "outputs": [
    {
     "name": "stdout",
     "output_type": "stream",
     "text": [
      "{'Montreal', 'Terrebonne', 'laval', 'trois-rivières'}\n"
     ]
    }
   ],
   "source": [
    "countries = {\"laval\", \"trois-rivières\"}\n",
    "mySet.update(countries)\n",
    "print(mySet)"
   ]
  },
  {
   "cell_type": "code",
   "execution_count": 9,
   "id": "92cd0296",
   "metadata": {},
   "outputs": [
    {
     "ename": "KeyError",
     "evalue": "'Montreal'",
     "output_type": "error",
     "traceback": [
      "\u001b[1;31m---------------------------------------------------------------------------\u001b[0m",
      "\u001b[1;31mKeyError\u001b[0m                                  Traceback (most recent call last)",
      "Cell \u001b[1;32mIn[9], line 1\u001b[0m\n\u001b[1;32m----> 1\u001b[0m \u001b[43mmySet\u001b[49m\u001b[38;5;241;43m.\u001b[39;49m\u001b[43mremove\u001b[49m\u001b[43m(\u001b[49m\u001b[38;5;124;43m'\u001b[39;49m\u001b[38;5;124;43mMontreal\u001b[39;49m\u001b[38;5;124;43m'\u001b[39;49m\u001b[43m)\u001b[49m\n",
      "\u001b[1;31mKeyError\u001b[0m: 'Montreal'"
     ]
    }
   ],
   "source": [
    "mySet.remove('Montreal')"
   ]
  },
  {
   "cell_type": "code",
   "execution_count": 10,
   "id": "ebf3a05c",
   "metadata": {},
   "outputs": [],
   "source": [
    "mySet.discard('Montreal')"
   ]
  },
  {
   "cell_type": "code",
   "execution_count": 11,
   "id": "b9e2baa7",
   "metadata": {},
   "outputs": [],
   "source": [
    "mySet.add('Montreal')"
   ]
  },
  {
   "cell_type": "code",
   "execution_count": 12,
   "id": "f4fd6c49",
   "metadata": {},
   "outputs": [
    {
     "name": "stdout",
     "output_type": "stream",
     "text": [
      "{'Montreal', 'Terrebonne', 'laval', 'trois-rivières'}\n",
      "{'Terrebonne', 'laval', 'trois-rivières'}\n"
     ]
    }
   ],
   "source": [
    "print(mySet)\n",
    "mySet.discard('Montreal')\n",
    "print(mySet)\n",
    "mySet.discard('Montreal')"
   ]
  },
  {
   "cell_type": "code",
   "execution_count": null,
   "id": "c4de54d4",
   "metadata": {},
   "outputs": [],
   "source": []
  }
 ],
 "metadata": {
  "kernelspec": {
   "display_name": "Python 3 (ipykernel)",
   "language": "python",
   "name": "python3"
  },
  "language_info": {
   "codemirror_mode": {
    "name": "ipython",
    "version": 3
   },
   "file_extension": ".py",
   "mimetype": "text/x-python",
   "name": "python",
   "nbconvert_exporter": "python",
   "pygments_lexer": "ipython3",
   "version": "3.10.9"
  }
 },
 "nbformat": 4,
 "nbformat_minor": 5
}
